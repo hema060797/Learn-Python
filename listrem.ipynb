{
 "cells": [
  {
   "cell_type": "code",
   "execution_count": 2,
   "metadata": {},
   "outputs": [
    {
     "name": "stdout",
     "output_type": "stream",
     "text": [
      "The original list is : ['666', '1616', '6166', '7342']\n",
      "The list after removal : ['666']\n"
     ]
    }
   ],
   "source": [
    "test_list = ['666', '1616', '6166', '7342'] \n",
    "test_str = '1234'\n",
    "print(\"The original list is : \" + str(test_list)) \n",
    "res = [] \n",
    "for sub in test_list: \n",
    " flag = 0\n",
    " for ele in sub: \n",
    "  if ele in test_str: \n",
    "   flag = 1\n",
    " if not flag: \n",
    "  res.append(sub) \n",
    "print(\"The list after removal : \" + str(res)) "
   ]
  },
  {
   "cell_type": "code",
   "execution_count": 3,
   "metadata": {},
   "outputs": [
    {
     "name": "stdout",
     "output_type": "stream",
     "text": [
      "The original list is : ['data', 'science', 'beginner', 'ML']\n",
      "The list after removal : ['science', 'beginner', 'ML']\n"
     ]
    }
   ],
   "source": [
    "test_list = ['data', 'science', 'beginner', 'ML'] \n",
    "test_str = 'a'\n",
    "print(\"The original list is : \" + str(test_list)) \n",
    "res = [] \n",
    "for sub in test_list: \n",
    " flag = 0\n",
    " for ele in sub: \n",
    "  if ele in test_str: \n",
    "   flag = 1\n",
    " if not flag: \n",
    "  res.append(sub) \n",
    "print(\"The list after removal : \" + str(res)) "
   ]
  },
  {
   "cell_type": "code",
   "execution_count": null,
   "metadata": {},
   "outputs": [],
   "source": []
  }
 ],
 "metadata": {
  "kernelspec": {
   "display_name": "Python 3",
   "language": "python",
   "name": "python3"
  },
  "language_info": {
   "codemirror_mode": {
    "name": "ipython",
    "version": 3
   },
   "file_extension": ".py",
   "mimetype": "text/x-python",
   "name": "python",
   "nbconvert_exporter": "python",
   "pygments_lexer": "ipython3",
   "version": "3.7.6"
  }
 },
 "nbformat": 4,
 "nbformat_minor": 4
}
