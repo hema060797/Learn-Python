{
 "cells": [
  {
   "cell_type": "markdown",
   "metadata": {},
   "source": [
    "## determining the type of os"
   ]
  },
  {
   "cell_type": "code",
   "execution_count": 13,
   "metadata": {},
   "outputs": [
    {
     "name": "stdout",
     "output_type": "stream",
     "text": [
      "64\n"
     ]
    }
   ],
   "source": [
    "import struct\n",
    "print(struct.calcsize(\"P\")*8)"
   ]
  },
  {
   "cell_type": "code",
   "execution_count": null,
   "metadata": {},
   "outputs": [],
   "source": [
    "import os\n",
    "def shutdown():\n",
    "    os.system(\"shutdown /s /t 1\")\n",
    "    shutdown()"
   ]
  },
  {
   "cell_type": "code",
   "execution_count": null,
   "metadata": {},
   "outputs": [],
   "source": [
    "import subprocess\n",
    "path=''\n",
    "subprocess.Popen(['notepad.exe'])"
   ]
  },
  {
   "cell_type": "code",
   "execution_count": 21,
   "metadata": {},
   "outputs": [
    {
     "data": {
      "text/plain": [
       "<subprocess.Popen at 0x1aa3099c0b8>"
      ]
     },
     "execution_count": 21,
     "metadata": {},
     "output_type": "execute_result"
    }
   ],
   "source": [
    "import subprocess\n",
    "subprocess.Popen('explorer')\n",
    "subprocess.Popen('control panel')"
   ]
  },
  {
   "cell_type": "code",
   "execution_count": 23,
   "metadata": {},
   "outputs": [
    {
     "data": {
      "text/plain": [
       "1"
      ]
     },
     "execution_count": 23,
     "metadata": {},
     "output_type": "execute_result"
    }
   ],
   "source": [
    "import os\n",
    "os.system('filename.docx')"
   ]
  },
  {
   "cell_type": "code",
   "execution_count": null,
   "metadata": {},
   "outputs": [],
   "source": [
    "import subprocess\n",
    "results=subprocess.check_output([\"netsh\",\"wlan\",\"show\",\"network\"])\n",
    "results=results.decode(\"ascii\")\n",
    "results=results.replace(\"\\r\",\"\")\n",
    "ls=results.split(\"\\n\")\n",
    "ls=ls[4:]\n",
    "ssids=[]\n",
    "x=0\n",
    "while x < len(ls):\n",
    "    if x%5==0:\n",
    "        ssids.append(ls[x])\n",
    "        x+=1\n",
    "print(ssids)"
   ]
  },
  {
   "cell_type": "code",
   "execution_count": 3,
   "metadata": {},
   "outputs": [],
   "source": [
    "import subprocess\n",
    "a=subprocess.check_output(['netsh','wlan','show','profiles']).decode('utf-8').split('\\n')\n",
    "a=[i.split(\":\")[1][:-1] for i in a if \"all user profile\" in i]\n",
    "for i in a:\n",
    "    results=subprocess.check_output(['netsh','wlan','show','profile',i,'key=clear']).decode('utf_8').split('\\n')\n",
    "    results=[b.split(\":\")[1][1:-1]  for b in results if \"Key Content\" in b]\n",
    "    try:\n",
    "        print(\"{:<30}| {:<}\".format(i,results[0]))\n",
    "    except:\n",
    "        print(\"{:<30}| {:<}\".format(i,\"\"))"
   ]
  },
  {
   "cell_type": "code",
   "execution_count": null,
   "metadata": {},
   "outputs": [],
   "source": []
  },
  {
   "cell_type": "code",
   "execution_count": null,
   "metadata": {},
   "outputs": [],
   "source": []
  },
  {
   "cell_type": "markdown",
   "metadata": {},
   "source": [
    "# taking 2 inputs in single line"
   ]
  },
  {
   "cell_type": "code",
   "execution_count": 15,
   "metadata": {},
   "outputs": [
    {
     "name": "stdout",
     "output_type": "stream",
     "text": [
      "input the value of x and  y\n",
      "5 6\n",
      "the value of x&y are: 5 6\n"
     ]
    }
   ],
   "source": [
    "print(\"input the value of x and  y\")\n",
    "x,y=map(int,input().split())\n",
    "print('the value of x&y are:',x,y)"
   ]
  },
  {
   "cell_type": "markdown",
   "metadata": {},
   "source": [
    "# sets -intersection"
   ]
  },
  {
   "cell_type": "code",
   "execution_count": 19,
   "metadata": {},
   "outputs": [
    {
     "name": "stdout",
     "output_type": "stream",
     "text": [
      "{'blue'}\n",
      "union\n",
      "{'green', 'blue', 'yellow'}\n"
     ]
    }
   ],
   "source": [
    "setx=set([\"green\",\"blue\"])\n",
    "sety=set([\"blue\",\"yellow\"])\n",
    "#taking intersection\n",
    "setz=setx&sety\n",
    "print(setz)\n",
    "print('union')\n",
    "setu=setx|sety\n",
    "print(setu)"
   ]
  },
  {
   "cell_type": "markdown",
   "metadata": {},
   "source": [
    "# sets-difference"
   ]
  },
  {
   "cell_type": "code",
   "execution_count": 17,
   "metadata": {},
   "outputs": [
    {
     "name": "stdout",
     "output_type": "stream",
     "text": [
      "{'mango'}\n",
      "{'apple'}\n"
     ]
    }
   ],
   "source": [
    "setx=set([\"apple\",\"mango\"])\n",
    "sety=set([\"mango\",\"orange\"])\n",
    "setz=setx&sety\n",
    "print(setz)\n",
    "#set difference\n",
    "setd=setx-setz\n",
    "print(setd)"
   ]
  },
  {
   "cell_type": "markdown",
   "metadata": {},
   "source": [
    "# set-symmentric difference"
   ]
  },
  {
   "cell_type": "code",
   "execution_count": 18,
   "metadata": {},
   "outputs": [
    {
     "name": "stdout",
     "output_type": "stream",
     "text": [
      "{'apple', 'orange'}\n"
     ]
    }
   ],
   "source": [
    "setx=set([\"apple\",\"mango\"])\n",
    "sety=set([\"mango\",\"orange\"])\n",
    "sets=setx^sety\n",
    "print(sets)"
   ]
  },
  {
   "cell_type": "markdown",
   "metadata": {},
   "source": [
    "# tuples"
   ]
  },
  {
   "cell_type": "raw",
   "metadata": {},
   "source": [
    "tuple is  similar to a list except that id fixed-length and immutable.\n",
    "so the values in the tuple cannot be changed nor the values be added or removed from the tuple \n",
    "tuples are commonly used for small collections of values that will not need to change such as ip address and  port\n",
    "tuples are represented with  paranthesis  instead of  square brackets\n"
   ]
  },
  {
   "cell_type": "code",
   "execution_count": 4,
   "metadata": {},
   "outputs": [
    {
     "data": {
      "text/plain": [
       "'class'"
      ]
     },
     "execution_count": 4,
     "metadata": {},
     "output_type": "execute_result"
    }
   ],
   "source": [
    "tupl=1,2,'name',3,'class',4\n",
    "tupl2=(5,6,'school','city')\n",
    "\n",
    "tupl[-2]"
   ]
  },
  {
   "cell_type": "code",
   "execution_count": 5,
   "metadata": {},
   "outputs": [
    {
     "data": {
      "text/plain": [
       "1"
      ]
     },
     "execution_count": 5,
     "metadata": {},
     "output_type": "execute_result"
    }
   ],
   "source": [
    "tupl[0]"
   ]
  },
  {
   "cell_type": "code",
   "execution_count": 6,
   "metadata": {},
   "outputs": [
    {
     "data": {
      "text/plain": [
       "'name'"
      ]
     },
     "execution_count": 6,
     "metadata": {},
     "output_type": "execute_result"
    }
   ],
   "source": [
    "tupl[2]"
   ]
  },
  {
   "cell_type": "code",
   "execution_count": 7,
   "metadata": {},
   "outputs": [
    {
     "data": {
      "text/plain": [
       "'city'"
      ]
     },
     "execution_count": 7,
     "metadata": {},
     "output_type": "execute_result"
    }
   ],
   "source": [
    "tupl2[-1]"
   ]
  },
  {
   "cell_type": "markdown",
   "metadata": {},
   "source": [
    "## How to print date and time\n"
   ]
  },
  {
   "cell_type": "code",
   "execution_count": 1,
   "metadata": {},
   "outputs": [
    {
     "name": "stdout",
     "output_type": "stream",
     "text": [
      "Current date and time:\n",
      "2020-04-28 12-46-25\n"
     ]
    }
   ],
   "source": [
    "import datetime\n",
    "now=datetime.datetime.now()\n",
    "print('Current date and time:')\n",
    "print(now.strftime(\"%Y-%m-%d %H-%M-%S\"))"
   ]
  },
  {
   "cell_type": "markdown",
   "metadata": {},
   "source": [
    "# calendar"
   ]
  },
  {
   "cell_type": "code",
   "execution_count": 9,
   "metadata": {},
   "outputs": [
    {
     "name": "stdout",
     "output_type": "stream",
     "text": [
      "enter the year:2020\n",
      "enter the month:4\n",
      "     April 2020\n",
      "Mo Tu We Th Fr Sa Su\n",
      "       1  2  3  4  5\n",
      " 6  7  8  9 10 11 12\n",
      "13 14 15 16 17 18 19\n",
      "20 21 22 23 24 25 26\n",
      "27 28 29 30\n",
      "\n"
     ]
    }
   ],
   "source": [
    "import calendar\n",
    "y=int(input('enter the year:'))\n",
    "m=int(input('enter the month:'))\n",
    "print(calendar.month(y,m))"
   ]
  },
  {
   "cell_type": "markdown",
   "metadata": {},
   "source": [
    "## difference between two date"
   ]
  },
  {
   "cell_type": "code",
   "execution_count": 11,
   "metadata": {},
   "outputs": [
    {
     "name": "stdout",
     "output_type": "stream",
     "text": [
      "9\n"
     ]
    }
   ],
   "source": [
    "from datetime import date\n",
    "f_date=date(2014,7,2)\n",
    "l_date=date(2014,7,11)\n",
    "delta=l_date-f_date\n",
    "print(delta.days)"
   ]
  },
  {
   "cell_type": "markdown",
   "metadata": {},
   "source": [
    "# printing day from the date entered by the user"
   ]
  },
  {
   "cell_type": "code",
   "execution_count": 2,
   "metadata": {},
   "outputs": [
    {
     "name": "stdout",
     "output_type": "stream",
     "text": [
      "Input time in seconds:1234565\n",
      "d:h:m:s-> 14:6:56:5\n"
     ]
    }
   ],
   "source": [
    "time=float(input(\"Input time in seconds:\"))\n",
    "day=time//(24*3600)\n",
    "time=time%(24*3600)\n",
    "hour=time//3600\n",
    "time%=3600\n",
    "minutes=time//60\n",
    "time%=60\n",
    "seconds=time\n",
    "print(\"d:h:m:s-> %d:%d:%d:%d\"%(day,hour,minutes,seconds))\n"
   ]
  },
  {
   "cell_type": "code",
   "execution_count": 7,
   "metadata": {},
   "outputs": [
    {
     "name": "stdout",
     "output_type": "stream",
     "text": [
      "input month and date separated by a single space:\n",
      "7 6\n",
      "name of the date day: Monday\n"
     ]
    }
   ],
   "source": [
    "from datetime import date\n",
    "print(\"input month and date separated by a single space:\")\n",
    "m,d=map(int,input().split())\n",
    "weeks={1:'Monday',2:'Tuesday',3:'Wednesday',4:'Thursday',5:'Friday',6:'Saturday',7:'Sunday'}\n",
    "w=date.isoweekday(date(2020,m,d))\n",
    "print(\"name of the date day:\",weeks[w])"
   ]
  },
  {
   "cell_type": "code",
   "execution_count": 11,
   "metadata": {},
   "outputs": [
    {
     "name": "stdout",
     "output_type": "stream",
     "text": [
      "Yesterday: 2020-04-27\n",
      "Today: 2020-04-28\n",
      "Tommorow: 2020-04-29\n"
     ]
    }
   ],
   "source": [
    "import numpy as np\n",
    "yesterday=np.datetime64('today','D')-np.timedelta64(1,'D')\n",
    "print(\"Yesterday:\",yesterday)\n",
    "today=np.datetime64('today','D')\n",
    "print(\"Today:\",today)\n",
    "tom=np.datetime64('today','D')+np.timedelta64(1,'D')\n",
    "print(\"Tommorow:\",tom)\n",
    "\n"
   ]
  },
  {
   "cell_type": "code",
   "execution_count": 13,
   "metadata": {},
   "outputs": [
    {
     "name": "stdout",
     "output_type": "stream",
     "text": [
      "Number of days,Feburary,2018:\n",
      "28 days\n",
      "Number of days,Feburary,2019:\n",
      "28 days\n",
      "Number of days,Feburary,2020:\n",
      "29 days\n"
     ]
    }
   ],
   "source": [
    "import numpy as np\n",
    "print(\"Number of days,Feburary,2018:\")\n",
    "print(np.datetime64('2018-03-01')-np.datetime64('2018-02-01'))\n",
    "print(\"Number of days,Feburary,2019:\")\n",
    "print(np.datetime64('2019-03-01')-np.datetime64('2019-02-01'))\n",
    "print(\"Number of days,Feburary,2020:\")\n",
    "print(np.datetime64('2020-03-01')-np.datetime64('2020-02-01'))\n",
    "\n",
    "\n",
    "      "
   ]
  },
  {
   "cell_type": "code",
   "execution_count": 15,
   "metadata": {},
   "outputs": [
    {
     "name": "stdout",
     "output_type": "stream",
     "text": [
      "first monday in may 2020:\n",
      "2020-05-04\n"
     ]
    }
   ],
   "source": [
    "import numpy as np\n",
    "print(\"first monday in may 2020:\")\n",
    "print(np.busday_offset('2020-05',0,roll='forward',weekmask='Mon'))"
   ]
  },
  {
   "cell_type": "code",
   "execution_count": 17,
   "metadata": {},
   "outputs": [
    {
     "name": "stdout",
     "output_type": "stream",
     "text": [
      "no of weekdays in may  2020:\n",
      "22\n"
     ]
    }
   ],
   "source": [
    "import numpy as np\n",
    "print(\"no of weekdays in may  2020:\")\n",
    "print(np.busday_count('2020-03','2020-04'))"
   ]
  },
  {
   "cell_type": "markdown",
   "metadata": {},
   "source": [
    "## finding area of the circle\n"
   ]
  },
  {
   "cell_type": "code",
   "execution_count": 8,
   "metadata": {},
   "outputs": [
    {
     "name": "stdout",
     "output_type": "stream",
     "text": [
      "enter the radius of circle:1.1\n",
      "the area of circle with radius1.1is3.8013271108436504\n"
     ]
    }
   ],
   "source": [
    "from math import pi\n",
    "r=float(input('enter the radius of circle:'))\n",
    "print('the area of circle with radius'+str(r)+\"is\"+str(pi*r*r))#(str(pi*r**2))\n"
   ]
  },
  {
   "cell_type": "markdown",
   "metadata": {},
   "source": [
    "# multiplication of table"
   ]
  },
  {
   "cell_type": "code",
   "execution_count": 10,
   "metadata": {
    "scrolled": true
   },
   "outputs": [
    {
     "name": "stdout",
     "output_type": "stream",
     "text": [
      "Display multiplication table of ?10\n",
      "10 x 1 = 10\n",
      "10 x 2 = 20\n",
      "10 x 3 = 30\n",
      "10 x 4 = 40\n",
      "10 x 5 = 50\n",
      "10 x 6 = 60\n",
      "10 x 7 = 70\n",
      "10 x 8 = 80\n",
      "10 x 9 = 90\n"
     ]
    }
   ],
   "source": [
    "num=int(input(\"Display multiplication table of ?\"))\n",
    "for i in range (1,10):\n",
    "    print(num,'x',i,'=',num*i)\n",
    "    "
   ]
  },
  {
   "cell_type": "markdown",
   "metadata": {},
   "source": [
    "# fibonacci series\n",
    "a series of numbers in which each number ( Fibonacci number ) is the sum of the two preceding numbers. The simplest is the series 1, 1, 2, 3, 5, 8, etc.\n"
   ]
  },
  {
   "cell_type": "code",
   "execution_count": 1,
   "metadata": {},
   "outputs": [
    {
     "name": "stdout",
     "output_type": "stream",
     "text": [
      "21\n"
     ]
    }
   ],
   "source": [
    "# Function for nth Fibonacci number \n",
    "  \n",
    "def Fibonacci(n): \n",
    "    if n<0: \n",
    "        print(\"Incorrect input\") \n",
    "    # First Fibonacci number is 0 \n",
    "    elif n==1: \n",
    "        return 0\n",
    "    # Second Fibonacci number is 1 \n",
    "    elif n==2: \n",
    "        return 1\n",
    "    else: \n",
    "        return Fibonacci(n-1)+Fibonacci(n-2) \n",
    "  \n",
    "# Driver Program \n",
    "  \n",
    "print(Fibonacci(9)) \n"
   ]
  },
  {
   "cell_type": "code",
   "execution_count": 3,
   "metadata": {},
   "outputs": [
    {
     "name": "stdout",
     "output_type": "stream",
     "text": [
      "1 is a Fibonacci Number\n",
      "2 is a Fibonacci Number\n",
      "3 is a Fibonacci Number\n",
      "4 is a not Fibonacci Number \n",
      "5 is a Fibonacci Number\n",
      "6 is a not Fibonacci Number \n",
      "7 is a not Fibonacci Number \n",
      "8 is a Fibonacci Number\n",
      "9 is a not Fibonacci Number \n",
      "10 is a not Fibonacci Number \n"
     ]
    }
   ],
   "source": [
    "import math \n",
    "  \n",
    "# A utility function that returns true if x is perfect square \n",
    "def isPerfectSquare(x): \n",
    "    s = int(math.sqrt(x)) \n",
    "    return s*s == x \n",
    "  \n",
    "# Returns true if n is a Fibinacci Number, else false \n",
    "def isFibonacci(n): \n",
    "  \n",
    "    # n is Fibinacci if one of 5*n*n + 4 or 5*n*n - 4 or both \n",
    "    # is a perferct square \n",
    "    return isPerfectSquare(5*n*n + 4) or isPerfectSquare(5*n*n - 4) \n",
    "     \n",
    "# A utility function to test above functions \n",
    "for i in range(1,11): \n",
    "     if (isFibonacci(i) == True): \n",
    "         print(i,\"is a Fibonacci Number\")\n",
    "     else: \n",
    "         print(i,\"is a not Fibonacci Number \")"
   ]
  },
  {
   "cell_type": "code",
   "execution_count": null,
   "metadata": {},
   "outputs": [],
   "source": []
  }
 ],
 "metadata": {
  "kernelspec": {
   "display_name": "Python 3",
   "language": "python",
   "name": "python3"
  },
  "language_info": {
   "codemirror_mode": {
    "name": "ipython",
    "version": 3
   },
   "file_extension": ".py",
   "mimetype": "text/x-python",
   "name": "python",
   "nbconvert_exporter": "python",
   "pygments_lexer": "ipython3",
   "version": "3.7.6"
  }
 },
 "nbformat": 4,
 "nbformat_minor": 2
}
